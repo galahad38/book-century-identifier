{
 "cells": [
  {
   "cell_type": "markdown",
   "id": "e16df0e7",
   "metadata": {},
   "source": [
    "<table align=\"center\" width=100%>\n",
    "    <tr>\n",
    "        <td width=\"20%\">\n",
    "        </td>\n",
    "        <td>\n",
    "            <div align=\"center\">\n",
    "                <font color=\"#21618C\" size=5px>\n",
    "                    <b> Book Century Identifier - Model Building<br>\n",
    "                    </b>\n",
    "                </font>\n",
    "            </div>\n",
    "        </td>\n",
    "         <td width=\"25%\">\n",
    "        </td>\n",
    "    </tr>\n",
    "</table>"
   ]
  },
  {
   "cell_type": "markdown",
   "id": "34d87c06",
   "metadata": {},
   "source": [
    "<a id=\"contents\"> </a>\n",
    "## Table of Contents:\n",
    "\n",
    "1. **[Importing Required Libraries](#import)**\n",
    "2. **[Cleaning the Data](#clean)**\n",
    "4. **[Building the Model](#model)**\n",
    "5. **[Evaluating the Model](#eval)**\n",
    "6. **[Future Scope of this Project](#futurescope)**"
   ]
  },
  {
   "cell_type": "markdown",
   "id": "6634f19f",
   "metadata": {},
   "source": [
    "<a id=\"import\"> </a>\n",
    "## 1. Importing Required Libraries:"
   ]
  },
  {
   "cell_type": "markdown",
   "id": "fd3515bf",
   "metadata": {},
   "source": [
    "[Back to Contents](#contents)"
   ]
  },
  {
   "cell_type": "code",
   "execution_count": 49,
   "id": "83740250",
   "metadata": {},
   "outputs": [],
   "source": [
    "# Importing pandas in order to work with DataFrames:\n",
    "import pandas as pd\n",
    "# Importing string to recognize punctuation to strip the data of it to extract individual words:\n",
    "import string\n",
    "\n",
    "# Importing Train Test Split, and Cross Validation to evaluate the Model:\n",
    "from sklearn.model_selection import train_test_split, cross_val_score\n",
    "# Importing LabelEncoder to Encode the Categorical Target Variable:\n",
    "from sklearn.preprocessing import LabelEncoder\n",
    "# Importing CountVectorizer to assemble the Document-Term Matrices:\n",
    "from sklearn.feature_extraction.text import CountVectorizer\n",
    "# Importing Classification Machine Learning Algorithms, since the Target Variable is Categorical:\n",
    "from sklearn.naive_bayes import MultinomialNB,BernoulliNB\n",
    "# Importing Classification Report to evaluate the Model built:\n",
    "from sklearn.metrics import classification_report\n",
    "\n",
    "# Modifying Jupyter Notebook settings in order to get output from all shell commands, and not just the latest:\n",
    "from IPython.core.interactiveshell import InteractiveShell\n",
    "InteractiveShell.ast_node_interactivity = \"all\""
   ]
  },
  {
   "cell_type": "code",
   "execution_count": 28,
   "id": "7f5112fc",
   "metadata": {},
   "outputs": [],
   "source": [
    "df = pd.read_csv('books_db.csv')\n",
    "df.drop('Unnamed: 0',axis=1,inplace=True)"
   ]
  },
  {
   "cell_type": "code",
   "execution_count": 29,
   "id": "c3fc5da8",
   "metadata": {},
   "outputs": [
    {
     "data": {
      "text/html": [
       "<div>\n",
       "<style scoped>\n",
       "    .dataframe tbody tr th:only-of-type {\n",
       "        vertical-align: middle;\n",
       "    }\n",
       "\n",
       "    .dataframe tbody tr th {\n",
       "        vertical-align: top;\n",
       "    }\n",
       "\n",
       "    .dataframe thead th {\n",
       "        text-align: right;\n",
       "    }\n",
       "</style>\n",
       "<table border=\"1\" class=\"dataframe\">\n",
       "  <thead>\n",
       "    <tr style=\"text-align: right;\">\n",
       "      <th></th>\n",
       "      <th>Name</th>\n",
       "      <th>Author</th>\n",
       "      <th>Year</th>\n",
       "      <th>Content</th>\n",
       "      <th>Century</th>\n",
       "    </tr>\n",
       "  </thead>\n",
       "  <tbody>\n",
       "    <tr>\n",
       "      <th>0</th>\n",
       "      <td>Harry Potter and the Deathly Hallows</td>\n",
       "      <td>J K Rowling</td>\n",
       "      <td>2014</td>\n",
       "      <td>ldemort, indicating the seat on his immediate ...</td>\n",
       "      <td>21</td>\n",
       "    </tr>\n",
       "    <tr>\n",
       "      <th>1</th>\n",
       "      <td>Harry Potter and the Deathly Hallows</td>\n",
       "      <td>J K Rowling</td>\n",
       "      <td>2014</td>\n",
       "      <td>aze had wandered upward to the body revolving ...</td>\n",
       "      <td>21</td>\n",
       "    </tr>\n",
       "    <tr>\n",
       "      <th>2</th>\n",
       "      <td>Harry Potter and the Deathly Hallows</td>\n",
       "      <td>J K Rowling</td>\n",
       "      <td>2014</td>\n",
       "      <td>rt. “At any rate, it remains unlikely that the...</td>\n",
       "      <td>21</td>\n",
       "    </tr>\n",
       "    <tr>\n",
       "      <th>3</th>\n",
       "      <td>Harry Potter and the Deathly Hallows</td>\n",
       "      <td>J K Rowling</td>\n",
       "      <td>2014</td>\n",
       "      <td>a small man halfway down the table, who had b...</td>\n",
       "      <td>21</td>\n",
       "    </tr>\n",
       "    <tr>\n",
       "      <th>4</th>\n",
       "      <td>Harry Potter and the Deathly Hallows</td>\n",
       "      <td>J K Rowling</td>\n",
       "      <td>2014</td>\n",
       "      <td>hiss on even after the cruel mouth had stoppe...</td>\n",
       "      <td>21</td>\n",
       "    </tr>\n",
       "  </tbody>\n",
       "</table>\n",
       "</div>"
      ],
      "text/plain": [
       "                                   Name       Author  Year  \\\n",
       "0  Harry Potter and the Deathly Hallows  J K Rowling  2014   \n",
       "1  Harry Potter and the Deathly Hallows  J K Rowling  2014   \n",
       "2  Harry Potter and the Deathly Hallows  J K Rowling  2014   \n",
       "3  Harry Potter and the Deathly Hallows  J K Rowling  2014   \n",
       "4  Harry Potter and the Deathly Hallows  J K Rowling  2014   \n",
       "\n",
       "                                             Content  Century  \n",
       "0  ldemort, indicating the seat on his immediate ...       21  \n",
       "1  aze had wandered upward to the body revolving ...       21  \n",
       "2  rt. “At any rate, it remains unlikely that the...       21  \n",
       "3   a small man halfway down the table, who had b...       21  \n",
       "4   hiss on even after the cruel mouth had stoppe...       21  "
      ]
     },
     "execution_count": 29,
     "metadata": {},
     "output_type": "execute_result"
    },
    {
     "data": {
      "text/html": [
       "<div>\n",
       "<style scoped>\n",
       "    .dataframe tbody tr th:only-of-type {\n",
       "        vertical-align: middle;\n",
       "    }\n",
       "\n",
       "    .dataframe tbody tr th {\n",
       "        vertical-align: top;\n",
       "    }\n",
       "\n",
       "    .dataframe thead th {\n",
       "        text-align: right;\n",
       "    }\n",
       "</style>\n",
       "<table border=\"1\" class=\"dataframe\">\n",
       "  <thead>\n",
       "    <tr style=\"text-align: right;\">\n",
       "      <th></th>\n",
       "      <th>Name</th>\n",
       "      <th>Author</th>\n",
       "      <th>Year</th>\n",
       "      <th>Content</th>\n",
       "      <th>Century</th>\n",
       "    </tr>\n",
       "  </thead>\n",
       "  <tbody>\n",
       "    <tr>\n",
       "      <th>355</th>\n",
       "      <td>Dr Faustus</td>\n",
       "      <td>Christopher Marlowe</td>\n",
       "      <td>1588</td>\n",
       "      <td>quod tumeraris:[52]      per Jehovam, Gehenna...</td>\n",
       "      <td>16</td>\n",
       "    </tr>\n",
       "    <tr>\n",
       "      <th>356</th>\n",
       "      <td>Dr Faustus</td>\n",
       "      <td>Christopher Marlowe</td>\n",
       "      <td>1588</td>\n",
       "      <td>om Faustus doth dedicate himself.      This wo...</td>\n",
       "      <td>16</td>\n",
       "    </tr>\n",
       "    <tr>\n",
       "      <th>357</th>\n",
       "      <td>Dr Faustus</td>\n",
       "      <td>Christopher Marlowe</td>\n",
       "      <td>1588</td>\n",
       "      <td>And meet me in my study at midnight,      And...</td>\n",
       "      <td>16</td>\n",
       "    </tr>\n",
       "    <tr>\n",
       "      <th>358</th>\n",
       "      <td>Dr Faustus</td>\n",
       "      <td>Christopher Marlowe</td>\n",
       "      <td>1588</td>\n",
       "      <td>should be full of vermin.[70]       WAGNER. S...</td>\n",
       "      <td>16</td>\n",
       "    </tr>\n",
       "    <tr>\n",
       "      <th>359</th>\n",
       "      <td>Dr Faustus</td>\n",
       "      <td>Christopher Marlowe</td>\n",
       "      <td>1588</td>\n",
       "      <td>llow me.       CLOWN. But, do you hear? if I s...</td>\n",
       "      <td>16</td>\n",
       "    </tr>\n",
       "  </tbody>\n",
       "</table>\n",
       "</div>"
      ],
      "text/plain": [
       "           Name               Author  Year  \\\n",
       "355  Dr Faustus  Christopher Marlowe  1588   \n",
       "356  Dr Faustus  Christopher Marlowe  1588   \n",
       "357  Dr Faustus  Christopher Marlowe  1588   \n",
       "358  Dr Faustus  Christopher Marlowe  1588   \n",
       "359  Dr Faustus  Christopher Marlowe  1588   \n",
       "\n",
       "                                               Content  Century  \n",
       "355   quod tumeraris:[52]      per Jehovam, Gehenna...       16  \n",
       "356  om Faustus doth dedicate himself.      This wo...       16  \n",
       "357   And meet me in my study at midnight,      And...       16  \n",
       "358   should be full of vermin.[70]       WAGNER. S...       16  \n",
       "359  llow me.       CLOWN. But, do you hear? if I s...       16  "
      ]
     },
     "execution_count": 29,
     "metadata": {},
     "output_type": "execute_result"
    },
    {
     "name": "stdout",
     "output_type": "stream",
     "text": [
      "<class 'pandas.core.frame.DataFrame'>\n",
      "RangeIndex: 360 entries, 0 to 359\n",
      "Data columns (total 5 columns):\n",
      " #   Column   Non-Null Count  Dtype \n",
      "---  ------   --------------  ----- \n",
      " 0   Name     360 non-null    object\n",
      " 1   Author   360 non-null    object\n",
      " 2   Year     360 non-null    int64 \n",
      " 3   Content  360 non-null    object\n",
      " 4   Century  360 non-null    int64 \n",
      "dtypes: int64(2), object(3)\n",
      "memory usage: 14.2+ KB\n"
     ]
    }
   ],
   "source": [
    "df.head()\n",
    "df.tail()\n",
    "df.info()"
   ]
  },
  {
   "cell_type": "markdown",
   "id": "1c9a5bbf",
   "metadata": {},
   "source": [
    "<a id=\"clean\"> </a>\n",
    "## 2. Cleaning the Data:"
   ]
  },
  {
   "cell_type": "markdown",
   "id": "d23a3eaa",
   "metadata": {},
   "source": [
    "[Back to Contents](#contents)"
   ]
  },
  {
   "cell_type": "code",
   "execution_count": 30,
   "id": "07907b61",
   "metadata": {
    "scrolled": true
   },
   "outputs": [
    {
     "data": {
      "text/plain": [
       "0      ldemort indicating the seat on his immediate r...\n",
       "1      aze had wandered upward to the body revolving ...\n",
       "2      rt “At any rate it remains unlikely that the M...\n",
       "3       a small man halfway down the table who had be...\n",
       "4       hiss on even after the cruel mouth had stoppe...\n",
       "                             ...                        \n",
       "355     quod tumeraris52      per Jehovam Gehennam et...\n",
       "356    om Faustus doth dedicate himself      This wor...\n",
       "357     And meet me in my study at midnight      And ...\n",
       "358     should be full of vermin70       WAGNER So th...\n",
       "359    llow me       CLOWN But do you hear if I shoul...\n",
       "Name: Content_cleaned, Length: 360, dtype: object"
      ]
     },
     "execution_count": 30,
     "metadata": {},
     "output_type": "execute_result"
    }
   ],
   "source": [
    "# Creating a user-defined function to remove the punctuation in the text, so we can extract words from it:\n",
    "def remove_punct(text):\n",
    "    text = \"\".join([char for char in text if char not in string.punctuation])\n",
    "    return text\n",
    "\n",
    "df['Content_cleaned'] = df['Content'].apply(remove_punct)\n",
    "df['Content_cleaned']"
   ]
  },
  {
   "cell_type": "code",
   "execution_count": 31,
   "id": "c8c5b626",
   "metadata": {},
   "outputs": [
    {
     "data": {
      "text/plain": [
       "19    70\n",
       "21    60\n",
       "20    60\n",
       "18    60\n",
       "17    60\n",
       "16    50\n",
       "Name: Century, dtype: int64"
      ]
     },
     "execution_count": 31,
     "metadata": {},
     "output_type": "execute_result"
    },
    {
     "data": {
      "text/plain": [
       "3    70\n",
       "5    60\n",
       "4    60\n",
       "2    60\n",
       "1    60\n",
       "0    50\n",
       "Name: Century_Enc, dtype: int64"
      ]
     },
     "execution_count": 31,
     "metadata": {},
     "output_type": "execute_result"
    }
   ],
   "source": [
    "# Instantiating our Label Encoder:\n",
    "le = LabelEncoder()\n",
    "# Checking the Target Variable before:\n",
    "df['Century'].value_counts()\n",
    "\n",
    "# Encoding our Categorical Target Variable:\n",
    "df['Century_Enc'] = le.fit_transform(df['Century'])\n",
    "# Checking the Target Variable after:\n",
    "df['Century_Enc'].value_counts()"
   ]
  },
  {
   "cell_type": "markdown",
   "id": "71caba8f",
   "metadata": {},
   "source": [
    "<a id=\"model\"> </a>\n",
    "## 3. Building the Model:"
   ]
  },
  {
   "cell_type": "markdown",
   "id": "2520f4cf",
   "metadata": {},
   "source": [
    "[Back to Contents](#contents)"
   ]
  },
  {
   "cell_type": "markdown",
   "id": "784a3f45",
   "metadata": {},
   "source": [
    "Before we can build our Classification Model, we need to build our Document-Term Matrix, and isolate our target variable. "
   ]
  },
  {
   "cell_type": "code",
   "execution_count": 44,
   "id": "6a0ca805",
   "metadata": {},
   "outputs": [
    {
     "data": {
      "text/html": [
       "<div>\n",
       "<style scoped>\n",
       "    .dataframe tbody tr th:only-of-type {\n",
       "        vertical-align: middle;\n",
       "    }\n",
       "\n",
       "    .dataframe tbody tr th {\n",
       "        vertical-align: top;\n",
       "    }\n",
       "\n",
       "    .dataframe thead th {\n",
       "        text-align: right;\n",
       "    }\n",
       "</style>\n",
       "<table border=\"1\" class=\"dataframe\">\n",
       "  <thead>\n",
       "    <tr style=\"text-align: right;\">\n",
       "      <th></th>\n",
       "      <th>10</th>\n",
       "      <th>102829</th>\n",
       "      <th>11</th>\n",
       "      <th>1116</th>\n",
       "      <th>119</th>\n",
       "      <th>119105</th>\n",
       "      <th>12</th>\n",
       "      <th>1225</th>\n",
       "      <th>13</th>\n",
       "      <th>13000</th>\n",
       "      <th>...</th>\n",
       "      <th>zakat</th>\n",
       "      <th>zeal</th>\n",
       "      <th>zealants</th>\n",
       "      <th>zeno</th>\n",
       "      <th>zimmerman</th>\n",
       "      <th>zoo</th>\n",
       "      <th>zoology</th>\n",
       "      <th>zootown</th>\n",
       "      <th>æmilianus</th>\n",
       "      <th>æthiopians</th>\n",
       "    </tr>\n",
       "  </thead>\n",
       "  <tbody>\n",
       "    <tr>\n",
       "      <th>0</th>\n",
       "      <td>0</td>\n",
       "      <td>0</td>\n",
       "      <td>0</td>\n",
       "      <td>0</td>\n",
       "      <td>0</td>\n",
       "      <td>0</td>\n",
       "      <td>0</td>\n",
       "      <td>0</td>\n",
       "      <td>0</td>\n",
       "      <td>0</td>\n",
       "      <td>...</td>\n",
       "      <td>0</td>\n",
       "      <td>0</td>\n",
       "      <td>0</td>\n",
       "      <td>0</td>\n",
       "      <td>0</td>\n",
       "      <td>0</td>\n",
       "      <td>0</td>\n",
       "      <td>0</td>\n",
       "      <td>0</td>\n",
       "      <td>0</td>\n",
       "    </tr>\n",
       "    <tr>\n",
       "      <th>1</th>\n",
       "      <td>0</td>\n",
       "      <td>0</td>\n",
       "      <td>0</td>\n",
       "      <td>0</td>\n",
       "      <td>0</td>\n",
       "      <td>0</td>\n",
       "      <td>0</td>\n",
       "      <td>0</td>\n",
       "      <td>0</td>\n",
       "      <td>0</td>\n",
       "      <td>...</td>\n",
       "      <td>0</td>\n",
       "      <td>0</td>\n",
       "      <td>0</td>\n",
       "      <td>0</td>\n",
       "      <td>0</td>\n",
       "      <td>0</td>\n",
       "      <td>0</td>\n",
       "      <td>0</td>\n",
       "      <td>0</td>\n",
       "      <td>0</td>\n",
       "    </tr>\n",
       "    <tr>\n",
       "      <th>2</th>\n",
       "      <td>0</td>\n",
       "      <td>0</td>\n",
       "      <td>0</td>\n",
       "      <td>0</td>\n",
       "      <td>0</td>\n",
       "      <td>0</td>\n",
       "      <td>0</td>\n",
       "      <td>0</td>\n",
       "      <td>0</td>\n",
       "      <td>0</td>\n",
       "      <td>...</td>\n",
       "      <td>0</td>\n",
       "      <td>0</td>\n",
       "      <td>0</td>\n",
       "      <td>0</td>\n",
       "      <td>0</td>\n",
       "      <td>0</td>\n",
       "      <td>0</td>\n",
       "      <td>0</td>\n",
       "      <td>0</td>\n",
       "      <td>0</td>\n",
       "    </tr>\n",
       "    <tr>\n",
       "      <th>3</th>\n",
       "      <td>0</td>\n",
       "      <td>0</td>\n",
       "      <td>0</td>\n",
       "      <td>0</td>\n",
       "      <td>0</td>\n",
       "      <td>0</td>\n",
       "      <td>0</td>\n",
       "      <td>0</td>\n",
       "      <td>0</td>\n",
       "      <td>0</td>\n",
       "      <td>...</td>\n",
       "      <td>0</td>\n",
       "      <td>0</td>\n",
       "      <td>0</td>\n",
       "      <td>0</td>\n",
       "      <td>0</td>\n",
       "      <td>0</td>\n",
       "      <td>0</td>\n",
       "      <td>0</td>\n",
       "      <td>0</td>\n",
       "      <td>0</td>\n",
       "    </tr>\n",
       "    <tr>\n",
       "      <th>4</th>\n",
       "      <td>0</td>\n",
       "      <td>0</td>\n",
       "      <td>0</td>\n",
       "      <td>0</td>\n",
       "      <td>0</td>\n",
       "      <td>0</td>\n",
       "      <td>0</td>\n",
       "      <td>0</td>\n",
       "      <td>0</td>\n",
       "      <td>0</td>\n",
       "      <td>...</td>\n",
       "      <td>0</td>\n",
       "      <td>0</td>\n",
       "      <td>0</td>\n",
       "      <td>0</td>\n",
       "      <td>0</td>\n",
       "      <td>0</td>\n",
       "      <td>0</td>\n",
       "      <td>0</td>\n",
       "      <td>0</td>\n",
       "      <td>0</td>\n",
       "    </tr>\n",
       "  </tbody>\n",
       "</table>\n",
       "<p>5 rows × 13449 columns</p>\n",
       "</div>"
      ],
      "text/plain": [
       "   10  102829  11  1116  119  119105  12  1225  13  13000  ...  zakat  zeal  \\\n",
       "0   0       0   0     0    0       0   0     0   0      0  ...      0     0   \n",
       "1   0       0   0     0    0       0   0     0   0      0  ...      0     0   \n",
       "2   0       0   0     0    0       0   0     0   0      0  ...      0     0   \n",
       "3   0       0   0     0    0       0   0     0   0      0  ...      0     0   \n",
       "4   0       0   0     0    0       0   0     0   0      0  ...      0     0   \n",
       "\n",
       "   zealants  zeno  zimmerman  zoo  zoology  zootown  æmilianus  æthiopians  \n",
       "0         0     0          0    0        0        0          0           0  \n",
       "1         0     0          0    0        0        0          0           0  \n",
       "2         0     0          0    0        0        0          0           0  \n",
       "3         0     0          0    0        0        0          0           0  \n",
       "4         0     0          0    0        0        0          0           0  \n",
       "\n",
       "[5 rows x 13449 columns]"
      ]
     },
     "execution_count": 44,
     "metadata": {},
     "output_type": "execute_result"
    }
   ],
   "source": [
    "# Building the Document-Term Matrix and isolating the Target Variable:\n",
    "CV = CountVectorizer(stop_words=\"english\")\n",
    "X = pd.DataFrame(CV.fit_transform(df['Content_cleaned']).toarray(), columns = CV.get_feature_names_out())\n",
    "y = df['Century_Enc']\n",
    "\n",
    "# Taking a look at the Document-Term Matrix:\n",
    "X.head()"
   ]
  },
  {
   "cell_type": "code",
   "execution_count": 46,
   "id": "9dcb0dea",
   "metadata": {},
   "outputs": [],
   "source": [
    "X_train, X_test, y_train, y_test = train_test_split(X, y, train_size = 0.7, random_state = 1331, stratify=y)"
   ]
  },
  {
   "cell_type": "code",
   "execution_count": 47,
   "id": "54397079",
   "metadata": {},
   "outputs": [
    {
     "data": {
      "text/html": [
       "<style>#sk-container-id-1 {color: black;background-color: white;}#sk-container-id-1 pre{padding: 0;}#sk-container-id-1 div.sk-toggleable {background-color: white;}#sk-container-id-1 label.sk-toggleable__label {cursor: pointer;display: block;width: 100%;margin-bottom: 0;padding: 0.3em;box-sizing: border-box;text-align: center;}#sk-container-id-1 label.sk-toggleable__label-arrow:before {content: \"▸\";float: left;margin-right: 0.25em;color: #696969;}#sk-container-id-1 label.sk-toggleable__label-arrow:hover:before {color: black;}#sk-container-id-1 div.sk-estimator:hover label.sk-toggleable__label-arrow:before {color: black;}#sk-container-id-1 div.sk-toggleable__content {max-height: 0;max-width: 0;overflow: hidden;text-align: left;background-color: #f0f8ff;}#sk-container-id-1 div.sk-toggleable__content pre {margin: 0.2em;color: black;border-radius: 0.25em;background-color: #f0f8ff;}#sk-container-id-1 input.sk-toggleable__control:checked~div.sk-toggleable__content {max-height: 200px;max-width: 100%;overflow: auto;}#sk-container-id-1 input.sk-toggleable__control:checked~label.sk-toggleable__label-arrow:before {content: \"▾\";}#sk-container-id-1 div.sk-estimator input.sk-toggleable__control:checked~label.sk-toggleable__label {background-color: #d4ebff;}#sk-container-id-1 div.sk-label input.sk-toggleable__control:checked~label.sk-toggleable__label {background-color: #d4ebff;}#sk-container-id-1 input.sk-hidden--visually {border: 0;clip: rect(1px 1px 1px 1px);clip: rect(1px, 1px, 1px, 1px);height: 1px;margin: -1px;overflow: hidden;padding: 0;position: absolute;width: 1px;}#sk-container-id-1 div.sk-estimator {font-family: monospace;background-color: #f0f8ff;border: 1px dotted black;border-radius: 0.25em;box-sizing: border-box;margin-bottom: 0.5em;}#sk-container-id-1 div.sk-estimator:hover {background-color: #d4ebff;}#sk-container-id-1 div.sk-parallel-item::after {content: \"\";width: 100%;border-bottom: 1px solid gray;flex-grow: 1;}#sk-container-id-1 div.sk-label:hover label.sk-toggleable__label {background-color: #d4ebff;}#sk-container-id-1 div.sk-serial::before {content: \"\";position: absolute;border-left: 1px solid gray;box-sizing: border-box;top: 0;bottom: 0;left: 50%;z-index: 0;}#sk-container-id-1 div.sk-serial {display: flex;flex-direction: column;align-items: center;background-color: white;padding-right: 0.2em;padding-left: 0.2em;position: relative;}#sk-container-id-1 div.sk-item {position: relative;z-index: 1;}#sk-container-id-1 div.sk-parallel {display: flex;align-items: stretch;justify-content: center;background-color: white;position: relative;}#sk-container-id-1 div.sk-item::before, #sk-container-id-1 div.sk-parallel-item::before {content: \"\";position: absolute;border-left: 1px solid gray;box-sizing: border-box;top: 0;bottom: 0;left: 50%;z-index: -1;}#sk-container-id-1 div.sk-parallel-item {display: flex;flex-direction: column;z-index: 1;position: relative;background-color: white;}#sk-container-id-1 div.sk-parallel-item:first-child::after {align-self: flex-end;width: 50%;}#sk-container-id-1 div.sk-parallel-item:last-child::after {align-self: flex-start;width: 50%;}#sk-container-id-1 div.sk-parallel-item:only-child::after {width: 0;}#sk-container-id-1 div.sk-dashed-wrapped {border: 1px dashed gray;margin: 0 0.4em 0.5em 0.4em;box-sizing: border-box;padding-bottom: 0.4em;background-color: white;}#sk-container-id-1 div.sk-label label {font-family: monospace;font-weight: bold;display: inline-block;line-height: 1.2em;}#sk-container-id-1 div.sk-label-container {text-align: center;}#sk-container-id-1 div.sk-container {/* jupyter's `normalize.less` sets `[hidden] { display: none; }` but bootstrap.min.css set `[hidden] { display: none !important; }` so we also need the `!important` here to be able to override the default hidden behavior on the sphinx rendered scikit-learn.org. See: https://github.com/scikit-learn/scikit-learn/issues/21755 */display: inline-block !important;position: relative;}#sk-container-id-1 div.sk-text-repr-fallback {display: none;}</style><div id=\"sk-container-id-1\" class=\"sk-top-container\"><div class=\"sk-text-repr-fallback\"><pre>MultinomialNB()</pre><b>In a Jupyter environment, please rerun this cell to show the HTML representation or trust the notebook. <br />On GitHub, the HTML representation is unable to render, please try loading this page with nbviewer.org.</b></div><div class=\"sk-container\" hidden><div class=\"sk-item\"><div class=\"sk-estimator sk-toggleable\"><input class=\"sk-toggleable__control sk-hidden--visually\" id=\"sk-estimator-id-1\" type=\"checkbox\" checked><label for=\"sk-estimator-id-1\" class=\"sk-toggleable__label sk-toggleable__label-arrow\">MultinomialNB</label><div class=\"sk-toggleable__content\"><pre>MultinomialNB()</pre></div></div></div></div></div>"
      ],
      "text/plain": [
       "MultinomialNB()"
      ]
     },
     "execution_count": 47,
     "metadata": {},
     "output_type": "execute_result"
    }
   ],
   "source": [
    "# Since we have a Multiclass Categorical Target Variable, let us use the\n",
    "# Multiclass Naive Baye's Algorithm to build our model:\n",
    "NB = MultinomialNB()\n",
    "NB.fit(X_train, y_train)"
   ]
  },
  {
   "cell_type": "markdown",
   "id": "ba8766c9",
   "metadata": {},
   "source": [
    "<a id=\"eval\"> </a>\n",
    "## 4. Evaluating the Model:"
   ]
  },
  {
   "cell_type": "markdown",
   "id": "4a65965a",
   "metadata": {},
   "source": [
    "[Back to Contents](#contents)"
   ]
  },
  {
   "cell_type": "markdown",
   "id": "6de7b85a",
   "metadata": {},
   "source": [
    "Evaluating the Model:"
   ]
  },
  {
   "cell_type": "code",
   "execution_count": 51,
   "id": "dcf59416",
   "metadata": {},
   "outputs": [
    {
     "name": "stdout",
     "output_type": "stream",
     "text": [
      "Classification Report for Train Data - Multinomial Naive Bayes' Model:\n",
      "              precision    recall  f1-score   support\n",
      "\n",
      "           0       1.00      1.00      1.00        35\n",
      "           1       1.00      1.00      1.00        42\n",
      "           2       1.00      1.00      1.00        42\n",
      "           3       1.00      1.00      1.00        48\n",
      "           4       1.00      1.00      1.00        42\n",
      "           5       1.00      1.00      1.00        42\n",
      "\n",
      "    accuracy                           1.00       251\n",
      "   macro avg       1.00      1.00      1.00       251\n",
      "weighted avg       1.00      1.00      1.00       251\n",
      "\n",
      "Classification Report for Test Data - Multinomial Naive Bayes' Model:\n",
      "              precision    recall  f1-score   support\n",
      "\n",
      "           0       1.00      0.93      0.97        15\n",
      "           1       0.94      0.94      0.94        18\n",
      "           2       0.94      0.89      0.91        18\n",
      "           3       0.91      0.91      0.91        22\n",
      "           4       0.90      1.00      0.95        18\n",
      "           5       1.00      1.00      1.00        18\n",
      "\n",
      "    accuracy                           0.94       109\n",
      "   macro avg       0.95      0.95      0.95       109\n",
      "weighted avg       0.95      0.94      0.94       109\n",
      "\n"
     ]
    }
   ],
   "source": [
    "# Classification Report for the Train Data:\n",
    "NB_train_predict = NB.predict(X_train)\n",
    "print(\"Classification Report for Train Data - Multinomial Naive Bayes' Model:\\n\", classification_report(y_train, NB_train_predict), sep = '')\n",
    "\n",
    "# Classification Report for the Test Data:\n",
    "NB_test_predict = NB.predict(X_test)\n",
    "print(\"Classification Report for Test Data - Multinomial Naive Bayes' Model:\\n\", classification_report(y_test, NB_test_predict), sep = '')"
   ]
  },
  {
   "cell_type": "markdown",
   "id": "31f6cff6",
   "metadata": {},
   "source": [
    "Since I want the model to be able to predict each century accurately, I will select Weighted F1 Score as my metric of choice, to account for any class imbalance, no matter how little."
   ]
  },
  {
   "cell_type": "markdown",
   "id": "dfc9bcb4",
   "metadata": {},
   "source": [
    "We can see that our Multinomial Naive Bayes Model has fit itself perfectly to the train data. It is likely that our model is overfit."
   ]
  },
  {
   "cell_type": "markdown",
   "id": "78ef8b2d",
   "metadata": {},
   "source": [
    "Let us perform Cross Validation to get a better idea of how well our model performs, and account for the Train-Test Split coincidentally giving us a high score."
   ]
  },
  {
   "cell_type": "code",
   "execution_count": 59,
   "id": "a34f6a7e",
   "metadata": {},
   "outputs": [
    {
     "name": "stdout",
     "output_type": "stream",
     "text": [
      "[0.81878307 0.68008072 0.74821259 0.97188552 0.82738095 0.73794261\n",
      " 0.85872831 1.         0.79259259 0.7257696 ]\n",
      "The Average Weighted F1 Score obtained through cross validation: 0.8161375969709302\n"
     ]
    }
   ],
   "source": [
    "# Performing 10-fold Cross Validation:\n",
    "scores = cross_val_score(NB, X, y, scoring = 'f1_weighted', cv=10)\n",
    "# Displaying the individual Weighted F1 Scores obtained for each model:\n",
    "print(scores)\n",
    "# Displaying the average metric:\n",
    "print('The Average Weighted F1 Score obtained through cross validation:', scores.mean())"
   ]
  },
  {
   "cell_type": "markdown",
   "id": "7128ccaa",
   "metadata": {},
   "source": [
    "81.6% is a respectable Weighted F1 Score"
   ]
  },
  {
   "cell_type": "markdown",
   "id": "dd74bb40",
   "metadata": {},
   "source": [
    "<a id=\"futurescope\"> </a>\n",
    "## 5. Future Scope of this Project:"
   ]
  },
  {
   "cell_type": "markdown",
   "id": "c530ce35",
   "metadata": {},
   "source": [
    "[Back to Contents](#contents)"
   ]
  },
  {
   "cell_type": "markdown",
   "id": "4c679a52",
   "metadata": {},
   "source": [
    "While I am satisfied with the outcome of this project, it is undoubtedly a prototype with huge scope for improvement.\n",
    "\n",
    "First things first, I can more programmatically source my data, say by downloading all of the books available on [Project Gutenberg](https://www.gutenberg.org/).\n",
    "\n",
    "Second, I can clean the data a bit better, and perform Feature Selection in order to remove words without dictionary meaning.\n",
    "\n",
    "Thirdly, when creating the Document-Term Matrix, I can also incorporate N-Grams as features.\n",
    "\n",
    "Lastly, I can implement a way for the user to input some text data and obtain a predicted Century value."
   ]
  }
 ],
 "metadata": {
  "kernelspec": {
   "display_name": "Python 3 (ipykernel)",
   "language": "python",
   "name": "python3"
  },
  "language_info": {
   "codemirror_mode": {
    "name": "ipython",
    "version": 3
   },
   "file_extension": ".py",
   "mimetype": "text/x-python",
   "name": "python",
   "nbconvert_exporter": "python",
   "pygments_lexer": "ipython3",
   "version": "3.10.9"
  }
 },
 "nbformat": 4,
 "nbformat_minor": 5
}
